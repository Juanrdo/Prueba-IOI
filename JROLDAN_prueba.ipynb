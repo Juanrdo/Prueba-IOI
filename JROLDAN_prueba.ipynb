{
  "nbformat": 4,
  "nbformat_minor": 0,
  "metadata": {
    "colab": {
      "provenance": [],
      "authorship_tag": "ABX9TyNPok8itfjf6bEuVMsi+3b7",
      "include_colab_link": true
    },
    "kernelspec": {
      "name": "python3",
      "display_name": "Python 3"
    },
    "language_info": {
      "name": "python"
    }
  },
  "cells": [
    {
      "cell_type": "markdown",
      "metadata": {
        "id": "view-in-github",
        "colab_type": "text"
      },
      "source": [
        "<a href=\"https://colab.research.google.com/github/Juanrdo/Prueba-IOI/blob/main/JROLDAN_prueba.ipynb\" target=\"_parent\"><img src=\"https://colab.research.google.com/assets/colab-badge.svg\" alt=\"Open In Colab\"/></a>"
      ]
    },
    {
      "cell_type": "markdown",
      "source": [
        "# Mi primera vez\n",
        "esto es un subtitulo\n"
      ],
      "metadata": {
        "id": "z9dzL9XPeoOW"
      }
    },
    {
      "cell_type": "code",
      "execution_count": 4,
      "metadata": {
        "colab": {
          "base_uri": "https://localhost:8080/"
        },
        "id": "Z78R3bmedeJQ",
        "outputId": "4e1dd52f-7cfa-4909-80ec-8a4a7ea26f2d"
      },
      "outputs": [
        {
          "output_type": "stream",
          "name": "stdout",
          "text": [
            "buen dia mundo\n"
          ]
        }
      ],
      "source": [
        "print(\"buen dia, mundo\")"
      ]
    },
    {
      "cell_type": "markdown",
      "source": [
        "#segundo texto\n"
      ],
      "metadata": {
        "id": "E9IYZWV5fHCP"
      }
    },
    {
      "cell_type": "code",
      "source": [
        "print(\"buen dia, Juan\")"
      ],
      "metadata": {
        "colab": {
          "base_uri": "https://localhost:8080/"
        },
        "id": "dPov5y1If5bO",
        "outputId": "41671188-dca9-456a-f2e6-4cf990e5b643"
      },
      "execution_count": 3,
      "outputs": [
        {
          "output_type": "stream",
          "name": "stdout",
          "text": [
            "buen dia, Juan\n"
          ]
        }
      ]
    }
  ]
}